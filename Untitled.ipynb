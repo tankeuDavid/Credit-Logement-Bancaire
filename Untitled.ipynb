{
 "cells": [
  {
   "cell_type": "code",
   "execution_count": 1,
   "id": "b8ae3b51",
   "metadata": {},
   "outputs": [
    {
     "name": "stdout",
     "output_type": "stream",
     "text": [
      "Répertoire du projet :  C:\\Users\\DAVID T\\Credit Logement Bancaire\n"
     ]
    }
   ],
   "source": [
    "import os\n",
    "\n",
    "# Obtenir le répertoire de travail actuel\n",
    "project_directory = os.getcwd()\n",
    "\n",
    "print(\"Répertoire du projet : \", project_directory)"
   ]
  },
  {
   "cell_type": "code",
   "execution_count": null,
   "id": "acc05021",
   "metadata": {},
   "outputs": [],
   "source": []
  }
 ],
 "metadata": {
  "kernelspec": {
   "display_name": "Python 3 (ipykernel)",
   "language": "python",
   "name": "python3"
  },
  "language_info": {
   "codemirror_mode": {
    "name": "ipython",
    "version": 3
   },
   "file_extension": ".py",
   "mimetype": "text/x-python",
   "name": "python",
   "nbconvert_exporter": "python",
   "pygments_lexer": "ipython3",
   "version": "3.11.5"
  }
 },
 "nbformat": 4,
 "nbformat_minor": 5
}
